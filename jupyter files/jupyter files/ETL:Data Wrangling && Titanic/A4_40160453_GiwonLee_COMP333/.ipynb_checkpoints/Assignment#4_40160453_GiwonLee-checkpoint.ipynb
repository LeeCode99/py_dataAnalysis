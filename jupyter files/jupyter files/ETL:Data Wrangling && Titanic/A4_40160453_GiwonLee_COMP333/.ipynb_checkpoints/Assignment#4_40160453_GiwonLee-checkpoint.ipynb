{
 "cells": [
  {
   "cell_type": "markdown",
   "id": "adcf58f6",
   "metadata": {},
   "source": [
    "### Assignment#4 Giwon Lee - 40160453"
   ]
  },
  {
   "cell_type": "markdown",
   "id": "c9944bc7",
   "metadata": {},
   "source": [
    "# To analyze the rate of children's survivor from Titanic incident. "
   ]
  },
  {
   "cell_type": "code",
   "execution_count": 1,
   "id": "4c2c4eea",
   "metadata": {
    "scrolled": false
   },
   "outputs": [
    {
     "data": {
      "text/html": [
       "<div>\n",
       "<style scoped>\n",
       "    .dataframe tbody tr th:only-of-type {\n",
       "        vertical-align: middle;\n",
       "    }\n",
       "\n",
       "    .dataframe tbody tr th {\n",
       "        vertical-align: top;\n",
       "    }\n",
       "\n",
       "    .dataframe thead th {\n",
       "        text-align: right;\n",
       "    }\n",
       "</style>\n",
       "<table border=\"1\" class=\"dataframe\">\n",
       "  <thead>\n",
       "    <tr style=\"text-align: right;\">\n",
       "      <th></th>\n",
       "      <th>PassengerId</th>\n",
       "      <th>Survived</th>\n",
       "      <th>Pclass</th>\n",
       "      <th>Name</th>\n",
       "      <th>Sex</th>\n",
       "      <th>Age</th>\n",
       "      <th>SibSp</th>\n",
       "      <th>Parch</th>\n",
       "      <th>Ticket</th>\n",
       "      <th>Fare</th>\n",
       "      <th>Cabin</th>\n",
       "      <th>Embarked</th>\n",
       "    </tr>\n",
       "  </thead>\n",
       "  <tbody>\n",
       "    <tr>\n",
       "      <th>0</th>\n",
       "      <td>1</td>\n",
       "      <td>0.0</td>\n",
       "      <td>3</td>\n",
       "      <td>Braund, Mr. Owen Harris</td>\n",
       "      <td>male</td>\n",
       "      <td>22.0</td>\n",
       "      <td>1</td>\n",
       "      <td>0</td>\n",
       "      <td>A/5 21171</td>\n",
       "      <td>7.2500</td>\n",
       "      <td>NaN</td>\n",
       "      <td>S</td>\n",
       "    </tr>\n",
       "    <tr>\n",
       "      <th>1</th>\n",
       "      <td>2</td>\n",
       "      <td>1.0</td>\n",
       "      <td>1</td>\n",
       "      <td>Cumings, Mrs. John Bradley (Florence Briggs Th...</td>\n",
       "      <td>female</td>\n",
       "      <td>38.0</td>\n",
       "      <td>1</td>\n",
       "      <td>0</td>\n",
       "      <td>PC 17599</td>\n",
       "      <td>71.2833</td>\n",
       "      <td>C85</td>\n",
       "      <td>C</td>\n",
       "    </tr>\n",
       "    <tr>\n",
       "      <th>2</th>\n",
       "      <td>3</td>\n",
       "      <td>1.0</td>\n",
       "      <td>3</td>\n",
       "      <td>Heikkinen, Miss. Laina</td>\n",
       "      <td>female</td>\n",
       "      <td>26.0</td>\n",
       "      <td>0</td>\n",
       "      <td>0</td>\n",
       "      <td>STON/O2. 3101282</td>\n",
       "      <td>7.9250</td>\n",
       "      <td>NaN</td>\n",
       "      <td>S</td>\n",
       "    </tr>\n",
       "    <tr>\n",
       "      <th>3</th>\n",
       "      <td>4</td>\n",
       "      <td>1.0</td>\n",
       "      <td>1</td>\n",
       "      <td>Futrelle, Mrs. Jacques Heath (Lily May Peel)</td>\n",
       "      <td>female</td>\n",
       "      <td>35.0</td>\n",
       "      <td>1</td>\n",
       "      <td>0</td>\n",
       "      <td>113803</td>\n",
       "      <td>53.1000</td>\n",
       "      <td>C123</td>\n",
       "      <td>S</td>\n",
       "    </tr>\n",
       "    <tr>\n",
       "      <th>4</th>\n",
       "      <td>5</td>\n",
       "      <td>0.0</td>\n",
       "      <td>3</td>\n",
       "      <td>Allen, Mr. William Henry</td>\n",
       "      <td>male</td>\n",
       "      <td>35.0</td>\n",
       "      <td>0</td>\n",
       "      <td>0</td>\n",
       "      <td>373450</td>\n",
       "      <td>8.0500</td>\n",
       "      <td>NaN</td>\n",
       "      <td>S</td>\n",
       "    </tr>\n",
       "  </tbody>\n",
       "</table>\n",
       "</div>"
      ],
      "text/plain": [
       "   PassengerId  Survived  Pclass  \\\n",
       "0            1       0.0       3   \n",
       "1            2       1.0       1   \n",
       "2            3       1.0       3   \n",
       "3            4       1.0       1   \n",
       "4            5       0.0       3   \n",
       "\n",
       "                                                Name     Sex   Age  SibSp  \\\n",
       "0                            Braund, Mr. Owen Harris    male  22.0      1   \n",
       "1  Cumings, Mrs. John Bradley (Florence Briggs Th...  female  38.0      1   \n",
       "2                             Heikkinen, Miss. Laina  female  26.0      0   \n",
       "3       Futrelle, Mrs. Jacques Heath (Lily May Peel)  female  35.0      1   \n",
       "4                           Allen, Mr. William Henry    male  35.0      0   \n",
       "\n",
       "   Parch            Ticket     Fare Cabin Embarked  \n",
       "0      0         A/5 21171   7.2500   NaN        S  \n",
       "1      0          PC 17599  71.2833   C85        C  \n",
       "2      0  STON/O2. 3101282   7.9250   NaN        S  \n",
       "3      0            113803  53.1000  C123        S  \n",
       "4      0            373450   8.0500   NaN        S  "
      ]
     },
     "execution_count": 1,
     "metadata": {},
     "output_type": "execute_result"
    }
   ],
   "source": [
    "# Import modules.\n",
    "import pandas as pd \n",
    "import seaborn as sns\n",
    "from matplotlib import pyplot as plt\n",
    "import numpy as np\n",
    "from sklearn.datasets import load_iris\n",
    "\n",
    "# ---------------------------------------------------------------------- #\n",
    "\n",
    "# Important Attributes from given data.\n",
    "\n",
    "# Survived \n",
    "# 1 - survived, 0 - dead\n",
    "\n",
    "# SibSp\n",
    "# Number of Siblings / Spouses Aboard\n",
    "\n",
    "# Parch\n",
    "# Number of parents / children aboard the titanic\n",
    "\n",
    "# Embarked\n",
    "# Port of Embarkation; C - Cherbourg, Q - Queenstown, S - Southampton\n",
    "\n",
    "# ---------------------------------------------------------------------- #\n",
    "\n",
    "\n",
    "# Analyse the Titanic dataset to determine which factors affect the survival rate of children.\n",
    "# Consider factors such as age, sex, embarkation port, and size of the family that was travelling;\n",
    "# if such information is available. Focus on creating a story.\n",
    "\n",
    "# I found those two csv files on kaggle that is provieded within this assginment.\n",
    "# Since, we are not dealing with test/train mehtods; I combined the csv files. \n",
    "\n",
    "train = pd.read_csv('train.csv')\n",
    "test = pd.read_csv('test.csv')\n",
    "\n",
    "# df is now a dataset that contains Titanic passengers' information\n",
    "df = pd.concat([train, test])\n",
    "\n",
    "\n",
    "# Global variables for number of male/female survivors.\n",
    "numFemale = df.loc[(df['Survived'] == 1) & (df['Age'] < 19) & (df['Sex'] == 'female')]\n",
    "numMale = df.loc[(df['Survived'] == 1) & (df['Age'] < 19) & (df['Sex'] == 'male')]\n",
    "\n",
    "# To reset the index for a better visualization.\n",
    "numMale.reset_index(drop=True, inplace=True)\n",
    "numFemale.reset_index(drop=True, inplace=True)\n",
    "\n",
    "# Concatenation of number of male/female survivors.\n",
    "dfTotal = pd.concat([numMale, numFemale])\n",
    "\n",
    "df.head()\n"
   ]
  },
  {
   "cell_type": "markdown",
   "id": "d5340ef9",
   "metadata": {},
   "source": [
    "Must Markup like this and show anallysis, presentation content and visualizations\n",
    "\n",
    "it is to focus on a simple EDA to focus on generating readable story\n",
    "\n",
    "Must have four slides that represent notebook analysis\n"
   ]
  },
  {
   "cell_type": "markdown",
   "id": "f7090085",
   "metadata": {},
   "source": [
    "# First, number of survivors (below 19) and male/female distribution."
   ]
  },
  {
   "cell_type": "code",
   "execution_count": 2,
   "id": "f3300c7f",
   "metadata": {
    "scrolled": true
   },
   "outputs": [
    {
     "name": "stdout",
     "output_type": "stream",
     "text": [
      "The total number of children who survived from the incident is:  70  people.\n",
      "The total number of children who died from the incident is:  69  people.\n",
      "Number of Male survivor:  24\n",
      "Number of Feale survivor:  46\n"
     ]
    },
    {
     "data": {
      "image/png": "[encoded data removed]",
      "text/plain": [
       "<Figure size 432x288 with 1 Axes>"
      ]
     },
     "metadata": {
      "needs_background": "light"
     },
     "output_type": "display_data"
    }
   ],
   "source": [
    "# How many kids total have survived from the incident.\n",
    "\n",
    "# I considered anyone who are 18 or less is children.\n",
    "# I intentionally set this age because there were not many children who 8 years or less.\n",
    "# Hence, whoever is not an adult, they belong to child data.\n",
    "\n",
    "def countSurvived(df):\n",
    "    survivedKid = df.loc[(df['Survived']== 1) & (df['Age'] < 19)]\n",
    "    deadKid = df.loc[(df['Survived']== 0) & (df['Age'] < 19)]\n",
    "\n",
    "    survivedKid.reset_index(drop=True, inplace=True)\n",
    "    \n",
    "    # To show hot many children have survived by age with interval of 2.5 years\n",
    "    survivedKid.hist(column = 'Age', bins = 5)\n",
    "    \n",
    "    # print(survivedKid.to_string())\n",
    "    count_survivedKid = survivedKid.shape[0]\n",
    "    count_deadKid = deadKid.shape[0]\n",
    "    print(\"The total number of children who survived from the incident is: \" , count_survivedKid , \" people.\")\n",
    "    print(\"The total number of children who died from the incident is: \" , count_deadKid , \" people.\")\n",
    "    print(\"Number of Male survivor: \" , numMale.shape[0])\n",
    "    print(\"Number of Feale survivor: \" , numFemale.shape[0])\n",
    "\n",
    "countSurvived(df)"
   ]
  },
  {
   "cell_type": "markdown",
   "id": "5d41a0f6",
   "metadata": {},
   "source": [
    "# Histogram view of male/female children survivors."
   ]
  },
  {
   "cell_type": "code",
   "execution_count": 3,
   "id": "81141bf5",
   "metadata": {},
   "outputs": [
    {
     "name": "stdout",
     "output_type": "stream",
     "text": [
      "**Female children survivors are significantly larger than male survivors.**\n"
     ]
    },
    {
     "data": {
      "image/png": "[encoded data removed]",
      "text/plain": [
       "<Figure size 432x288 with 1 Axes>"
      ]
     },
     "metadata": {
      "needs_background": "light"
     },
     "output_type": "display_data"
    }
   ],
   "source": [
    "import pandas as pd \n",
    "\n",
    "def histSurvivor(df):\n",
    "    numMale['Sex'].hist()\n",
    "    numFemale['Sex'].hist()\n",
    "    print(\"**Female children survivors are significantly larger than male survivors.**\")\n",
    "\n",
    "histSurvivor(df)\n"
   ]
  },
  {
   "cell_type": "markdown",
   "id": "31528931",
   "metadata": {},
   "source": [
    "# To find out which location they are boarded.\n",
    "\n",
    "# Embarked (has three locations): \n",
    "## Port of Embarkation:\n",
    "### C - Cherbourg\n",
    "### Q - Queenstown\n",
    "### S - Southampton"
   ]
  },
  {
   "cell_type": "code",
   "execution_count": 42,
   "id": "d8e8553f",
   "metadata": {},
   "outputs": [
    {
     "name": "stdout",
     "output_type": "stream",
     "text": [
      "Number of survivors embarked at Cherbourg:  20\n",
      "Number of survivors embarked at Queenstown:  3\n",
      "Number of survivors embarked at Southampton:  47\n",
      "+----+---------------------+-------------------+------------------+-------------+---------------+--------------+\n",
      "|    | Embarked Location   |   # of passengers |   # of survivors |   # of Male |   # of Female |   % survivor |\n",
      "|----+---------------------+-------------------+------------------+-------------+---------------+--------------|\n",
      "|  0 | Cherbourg           |                28 |               20 |           4 |            16 |           71 |\n",
      "|  1 | Queenstown          |                11 |                3 |           0 |             3 |           27 |\n",
      "|  2 | Southampton         |                55 |               47 |          20 |            27 |           85 |\n",
      "+----+---------------------+-------------------+------------------+-------------+---------------+--------------+\n"
     ]
    },
    {
     "data": {
      "text/html": [
       "<div>\n",
       "<style scoped>\n",
       "    .dataframe tbody tr th:only-of-type {\n",
       "        vertical-align: middle;\n",
       "    }\n",
       "\n",
       "    .dataframe tbody tr th {\n",
       "        vertical-align: top;\n",
       "    }\n",
       "\n",
       "    .dataframe thead th {\n",
       "        text-align: right;\n",
       "    }\n",
       "</style>\n",
       "<table border=\"1\" class=\"dataframe\">\n",
       "  <thead>\n",
       "    <tr style=\"text-align: right;\">\n",
       "      <th></th>\n",
       "      <th>Embarked Location</th>\n",
       "      <th># of passengers</th>\n",
       "      <th># of survivors</th>\n",
       "      <th># of Male</th>\n",
       "      <th># of Female</th>\n",
       "      <th>% survivor</th>\n",
       "    </tr>\n",
       "  </thead>\n",
       "  <tbody>\n",
       "    <tr>\n",
       "      <th>0</th>\n",
       "      <td>Cherbourg</td>\n",
       "      <td>28</td>\n",
       "      <td>20</td>\n",
       "      <td>4</td>\n",
       "      <td>16</td>\n",
       "      <td>71</td>\n",
       "    </tr>\n",
       "    <tr>\n",
       "      <th>1</th>\n",
       "      <td>Queenstown</td>\n",
       "      <td>11</td>\n",
       "      <td>3</td>\n",
       "      <td>0</td>\n",
       "      <td>3</td>\n",
       "      <td>27</td>\n",
       "    </tr>\n",
       "    <tr>\n",
       "      <th>2</th>\n",
       "      <td>Southampton</td>\n",
       "      <td>55</td>\n",
       "      <td>47</td>\n",
       "      <td>20</td>\n",
       "      <td>27</td>\n",
       "      <td>85</td>\n",
       "    </tr>\n",
       "  </tbody>\n",
       "</table>\n",
       "</div>"
      ],
      "text/plain": [
       "  Embarked Location  # of passengers  # of survivors  # of Male  # of Female  \\\n",
       "0         Cherbourg               28              20          4           16   \n",
       "1        Queenstown               11               3          0            3   \n",
       "2       Southampton               55              47         20           27   \n",
       "\n",
       "   % survivor  \n",
       "0          71  \n",
       "1          27  \n",
       "2          85  "
      ]
     },
     "metadata": {},
     "output_type": "display_data"
    },
    {
     "data": {
      "image/png": "[encoded data removed]",
      "text/plain": [
       "<Figure size 432x288 with 6 Axes>"
      ]
     },
     "metadata": {
      "needs_background": "light"
     },
     "output_type": "display_data"
    }
   ],
   "source": [
    "# importing the modules\n",
    "from tabulate import tabulate\n",
    "\n",
    "# First to find where they Embarked.\n",
    "# C for Cherbourg\n",
    "# Q for Queenstown\n",
    "# S for Southampton\n",
    "embarkedC = df.loc[(df['Survived'] == 1) & (df['Age'] < 19) & (df['Embarked'] == 'C')]\n",
    "embarkedQ = df.loc[(df['Survived'] == 1) & (df['Age'] < 19) & (df['Embarked'] == 'Q')]\n",
    "embarkedS = df.loc[(df['Survived'] == 1) & (df['Age'] < 19) & (df['Embarked'] == 'S')]\n",
    "\n",
    "# This function displays the number of survivors male/female from each different locations they get on board.\n",
    "def embarkedLoc(df, i):\n",
    "    \n",
    "    embarkedC.reset_index(drop=True, inplace=True)\n",
    "    embarkedQ.reset_index(drop=True, inplace=True)\n",
    "    embarkedS.reset_index(drop=True, inplace=True)\n",
    "    \n",
    "    print(\"Number of survivors embarked at Cherbourg: \" , embarkedC.shape[0])\n",
    "    print(\"Number of survivors embarked at Queenstown: \" , embarkedQ.shape[0])\n",
    "    print(\"Number of survivors embarked at Southampton: \" , embarkedS.shape[0])\n",
    "\n",
    "    newDf = embarkedC+embarkedQ+embarkedS\n",
    "    \n",
    "    # Number of total child passengers either survived or not survived\n",
    "    xP = embarkedC.shape[0] + df.loc[(df['Survived'] == 0) & (df['Age'] < 19) & (df['Embarked'] == 'C')].shape[0]\n",
    "    yP = embarkedQ.shape[0] + df.loc[(df['Survived'] == 0) & (df['Age'] < 19) & (df['Embarked'] == 'C')].shape[0]\n",
    "    zP = embarkedS.shape[0] + df.loc[(df['Survived'] == 0) & (df['Age'] < 19) & (df['Embarked'] == 'C')].shape[0]\n",
    "\n",
    "    # Number of male survivors at each location\n",
    "    xM = embarkedC.loc[embarkedC['Sex']== \"male\"].shape[0]\n",
    "    yM = embarkedQ.loc[embarkedQ['Sex']== \"male\"].shape[0]\n",
    "    zM = embarkedS.loc[embarkedS['Sex']== \"male\"].shape[0]\n",
    "    \n",
    "    # Number of female survivors at each location\n",
    "    xF = embarkedC.loc[embarkedC['Sex']== \"female\"].shape[0]\n",
    "    yF = embarkedQ.loc[embarkedQ['Sex']== \"female\"].shape[0]\n",
    "    zF = embarkedS.loc[embarkedS['Sex']== \"female\"].shape[0]\n",
    "    \n",
    "    # Insert datas in a data frame.\n",
    "    newDf = pd.DataFrame({\n",
    "        'Embarked Location':{0:'Cherbourg' ,1:'Queenstown' ,2:'Southampton'},\n",
    "        '# of passengers':{0:xP,1:yP,2:zP},\n",
    "        '# of survivors':{0:embarkedC.shape[0], 1:embarkedQ.shape[0] , 2:embarkedS.shape[0]},\n",
    "        '# of Male':{0:xM,1:yM,2:zM},\n",
    "        '# of Female':{0:xF,1:yF,2:zF},\n",
    "        '% survivor':{0:int(round(embarkedC.shape[0]/xP*100)),1:int(round(embarkedQ.shape[0]/yP*100)),2:int(round(embarkedS.shape[0]/zP*100))}\n",
    "        # Simply divide survivors by total # of passengers.\n",
    "    })\n",
    "    \n",
    "    # Displaying plots and dataframe makes it hard to visualize all the data at once.\n",
    "    # Hence, if i is 0, it will display table formation of dataframe\n",
    "    # if i is 1, it will display the plots.\n",
    "    \n",
    "    if(i == 0):\n",
    "        print(tabulate(newDf, headers = 'keys', tablefmt = 'psql'))\n",
    "        display(newDf)\n",
    "    \n",
    "    if(i == 1):\n",
    "        print()\n",
    "        print(\"Number of survivors/dead embarked at Cherbourg: \" , xP)\n",
    "        print(\"Number of survivors/dead embarked at Queenstown: \" , yP)\n",
    "        print(\"Number of survivors/dead embarked at Southampton: \" , zP)\n",
    "        print()\n",
    "\n",
    "        \n",
    "        newDf.plot.box(column = '# of survivors', by = \"Embarked Location\")\n",
    "        print(\"Survived Male and Female child\")\n",
    "        newDf.plot.box(column = '# of Male', by = \"Embarked Location\")\n",
    "        newDf.plot.box(column = '# of Female', by = \"Embarked Location\")\n",
    "    newDf.hist()\n",
    "embarkedLoc(df,0)"
   ]
  },
  {
   "cell_type": "code",
   "execution_count": 5,
   "id": "d72de89a",
   "metadata": {},
   "outputs": [
    {
     "name": "stdout",
     "output_type": "stream",
     "text": [
      "Number of survivors embarked at Cherbourg:  20\n",
      "Number of survivors embarked at Queenstown:  3\n",
      "Number of survivors embarked at Southampton:  47\n",
      "\n",
      "Number of survivors/dead embarked at Cherbourg:  28\n",
      "Number of survivors/dead embarked at Queenstown:  11\n",
      "Number of survivors/dead embarked at Southampton:  55\n",
      "\n",
      "Survived Male and Female child\n"
     ]
    },
    {
     "data": {
      "image/png": "[encoded data removed]",
      "text/plain": [
       "<Figure size 432x288 with 1 Axes>"
      ]
     },
     "metadata": {
      "needs_background": "light"
     },
     "output_type": "display_data"
    },
    {
     "data": {
      "image/png": "[encoded data removed]",
      "text/plain": [
       "<Figure size 432x288 with 1 Axes>"
      ]
     },
     "metadata": {
      "needs_background": "light"
     },
     "output_type": "display_data"
    },
    {
     "data": {
      "image/png": "[encoded data removed]",
      "text/plain": [
       "<Figure size 432x288 with 1 Axes>"
      ]
     },
     "metadata": {
      "needs_background": "light"
     },
     "output_type": "display_data"
    }
   ],
   "source": [
    "embarkedLoc(df,1)"
   ]
  },
  {
   "cell_type": "markdown",
   "id": "032e912c",
   "metadata": {},
   "source": [
    "## There is more female survivors than male survivors."
   ]
  },
  {
   "cell_type": "code",
   "execution_count": 9,
   "id": "7d12ebab",
   "metadata": {
    "scrolled": true
   },
   "outputs": [
    {
     "name": "stdout",
     "output_type": "stream",
     "text": [
      "Data frame of members boarded at different locations:\n",
      "+----+---------------------+-------------------+---------------------+-------------------+---------------------+\n",
      "|    | Embarked Location   |   Male passengers |   Female passengers |   % Male survivor |   % Female survivor |\n",
      "|----+---------------------+-------------------+---------------------+-------------------+---------------------|\n",
      "|  0 | Cherbourg           |                 8 |                  20 |                50 |                  80 |\n",
      "|  1 | Queenstown          |                 4 |                   4 |                 0 |                  75 |\n",
      "|  2 | Southampton         |                59 |                  44 |                34 |                  61 |\n",
      "+----+---------------------+-------------------+---------------------+-------------------+---------------------+\n"
     ]
    },
    {
     "data": {
      "text/html": [
       "<div>\n",
       "<style scoped>\n",
       "    .dataframe tbody tr th:only-of-type {\n",
       "        vertical-align: middle;\n",
       "    }\n",
       "\n",
       "    .dataframe tbody tr th {\n",
       "        vertical-align: top;\n",
       "    }\n",
       "\n",
       "    .dataframe thead th {\n",
       "        text-align: right;\n",
       "    }\n",
       "</style>\n",
       "<table border=\"1\" class=\"dataframe\">\n",
       "  <thead>\n",
       "    <tr style=\"text-align: right;\">\n",
       "      <th></th>\n",
       "      <th>Embarked Location</th>\n",
       "      <th>Male passengers</th>\n",
       "      <th>Female passengers</th>\n",
       "      <th>% Male survivor</th>\n",
       "      <th>% Female survivor</th>\n",
       "    </tr>\n",
       "  </thead>\n",
       "  <tbody>\n",
       "    <tr>\n",
       "      <th>0</th>\n",
       "      <td>Cherbourg</td>\n",
       "      <td>8</td>\n",
       "      <td>20</td>\n",
       "      <td>50</td>\n",
       "      <td>80</td>\n",
       "    </tr>\n",
       "    <tr>\n",
       "      <th>1</th>\n",
       "      <td>Queenstown</td>\n",
       "      <td>4</td>\n",
       "      <td>4</td>\n",
       "      <td>0</td>\n",
       "      <td>75</td>\n",
       "    </tr>\n",
       "    <tr>\n",
       "      <th>2</th>\n",
       "      <td>Southampton</td>\n",
       "      <td>59</td>\n",
       "      <td>44</td>\n",
       "      <td>34</td>\n",
       "      <td>61</td>\n",
       "    </tr>\n",
       "  </tbody>\n",
       "</table>\n",
       "</div>"
      ],
      "text/plain": [
       "  Embarked Location  Male passengers  Female passengers  % Male survivor  \\\n",
       "0         Cherbourg                8                 20               50   \n",
       "1        Queenstown                4                  4                0   \n",
       "2       Southampton               59                 44               34   \n",
       "\n",
       "   % Female survivor  \n",
       "0                 80  \n",
       "1                 75  \n",
       "2                 61  "
      ]
     },
     "metadata": {},
     "output_type": "display_data"
    },
    {
     "data": {
      "image/png": "[encoded data removed]",
      "text/plain": [
       "<Figure size 452.125x360 with 1 Axes>"
      ]
     },
     "metadata": {
      "needs_background": "light"
     },
     "output_type": "display_data"
    },
    {
     "data": {
      "image/png": "[encoded data removed]",
      "text/plain": [
       "<Figure size 464.5x360 with 1 Axes>"
      ]
     },
     "metadata": {
      "needs_background": "light"
     },
     "output_type": "display_data"
    },
    {
     "data": {
      "image/png": "[encoded data removed]",
      "text/plain": [
       "<Figure size 360x360 with 1 Axes>"
      ]
     },
     "metadata": {
      "needs_background": "light"
     },
     "output_type": "display_data"
    },
    {
     "data": {
      "image/png": "[encoded data removed]",
      "text/plain": [
       "<Figure size 360x360 with 1 Axes>"
      ]
     },
     "metadata": {
      "needs_background": "light"
     },
     "output_type": "display_data"
    }
   ],
   "source": [
    "plotdf = df\n",
    "def survivorRateBySex():\n",
    "# Number of male and female child passengers on board at Cherbourg\n",
    "    xPM = df.loc[(df['Age'] < 19) & (df['Embarked'] == 'C') &(df['Sex']=='male')& ((df['Survived'] == 0) | (df['Survived'] == 1))].shape[0]\n",
    "    xPF = df.loc[(df['Age'] < 19) & (df['Embarked'] == 'C') &(df['Sex']=='female')& ((df['Survived'] == 0) | (df['Survived'] == 1))].shape[0]\n",
    "\n",
    "    yPM = df.loc[(df['Age'] < 19) & (df['Embarked'] == 'Q') &(df['Sex']=='male')& ((df['Survived'] == 0) | (df['Survived'] == 1))].shape[0]\n",
    "    yPF = df.loc[(df['Age'] < 19) & (df['Embarked'] == 'Q') &(df['Sex']=='female')& ((df['Survived'] == 0) | (df['Survived'] == 1))].shape[0]\n",
    "\n",
    "    zPM = df.loc[(df['Age'] < 19) & (df['Embarked'] == 'S') &(df['Sex']=='male')& ((df['Survived'] == 0) | (df['Survived'] == 1))].shape[0]\n",
    "    zPF = df.loc[(df['Age'] < 19) & (df['Embarked'] == 'S') &(df['Sex']=='female')& ((df['Survived'] == 0) | (df['Survived'] == 1))].shape[0]\n",
    "\n",
    "# Number of male survivors at each location\n",
    "    xM = embarkedC.loc[embarkedC['Sex']== \"male\"].shape[0]\n",
    "    yM = embarkedQ.loc[embarkedQ['Sex']== \"male\"].shape[0]\n",
    "    zM = embarkedS.loc[embarkedS['Sex']== \"male\"].shape[0]\n",
    "\n",
    "# Number of female survivors at each location\n",
    "    xF = embarkedC.loc[embarkedC['Sex']== \"female\"].shape[0]\n",
    "    yF = embarkedQ.loc[embarkedQ['Sex']== \"female\"].shape[0]\n",
    "    zF = embarkedS.loc[embarkedS['Sex']== \"female\"].shape[0]\n",
    "\n",
    "    # Insert datas in a data frame.\n",
    "    newDf2 = pd.DataFrame({\n",
    "        'Embarked Location':{0:'Cherbourg' ,1:'Queenstown' ,2:'Southampton'},\n",
    "        'Male passengers':{0:xPM, 1:yPM , 2:zPM },\n",
    "        'Female passengers':{0:xPF, 1:yPF , 2:zPF },\n",
    "        '% Male survivor':{0:int(round(xM/xPM*100)) , 1:int(round(yM/yPM*100)) , 2:int(round(zM/zPM*100)) },\n",
    "        '% Female survivor':{0:int(round(xF/xPF*100)) , 1:int(round(yF/yPF*100)) , 2:int(round(zF/zPF*100)) }\n",
    "    # Simply divide survivors by total # of passengers.\n",
    "    })\n",
    "    \n",
    "    plotdf = newDf2\n",
    "    sns.displot(data=newDf2, x=\"Embarked Location\", hue=\"Male passengers\", multiple=\"stack\")\n",
    "    sns.displot(data=newDf2, x=\"Embarked Location\" , hue=\"Female passengers\", multiple=\"stack\")    \n",
    "    \n",
    "    sns.displot(data=newDf2, x=\"% Male survivor\", multiple=\"stack\", kind=\"kde\")\n",
    "    sns.displot(data=newDf2, x=\"% Female survivor\", multiple=\"stack\", kind=\"kde\")\n",
    "    \n",
    "    print(\"Data frame of members boarded at different locations:\")\n",
    "    print(tabulate(newDf2, headers = 'keys', tablefmt = 'psql'))\n",
    "    display(newDf2)\n",
    "survivorRateBySex()"
   ]
  },
  {
   "cell_type": "markdown",
   "id": "4b39c09a",
   "metadata": {},
   "source": [
    "From the above bell curve graph, it is clear that female child survivor rate iw approximately 20 % higher than male survivor rate"
   ]
  },
  {
   "cell_type": "markdown",
   "id": "010bf0af",
   "metadata": {},
   "source": [
    "# Displays the box plot of number of survived male/female at each location "
   ]
  },
  {
   "cell_type": "markdown",
   "id": "146313c9",
   "metadata": {},
   "source": [
    "## According to the plots and number of survivors from different locations.\n",
    "\n",
    "## Southampton has majority passengers on board compare to Cherbourg and Queenstown.\n",
    "\n",
    "## Plus, Southampton has the greatest percentage of survivor rate.\n",
    "\n",
    "## Then, Cherbourg and Queenstown.\n",
    "\n",
    "## @@Southampton is known as the first stop for Titanic where majority passengers have boarded@@\n"
   ]
  },
  {
   "cell_type": "markdown",
   "id": "624e848f",
   "metadata": {},
   "source": [
    "# \n",
    "\n",
    "\n",
    "\n",
    "# Family members with dead/survived child rate"
   ]
  },
  {
   "cell_type": "code",
   "execution_count": 40,
   "id": "4367a2eb",
   "metadata": {},
   "outputs": [],
   "source": [
    "def sibNumRelation():\n",
    "    \n",
    "    # Number of survived kids who have siblings or parents.\n",
    "    sibXM = df.loc[(df['Survived'] == 1) & (df['Age'] < 19) & ((df['SibSp'] > 0) | (df['Parch'] > 0)) & (df['Sex'] == 'male')]\n",
    "    sibXF = df.loc[(df['Survived'] == 1) & (df['Age'] < 19) & ((df['SibSp'] > 0) | (df['Parch'] > 0)) & (df['Sex'] == 'female')]\n",
    "    \n",
    "    # Number of survived kids who have no siblings and parents.\n",
    "    noSibXM = df.loc[(df['Survived'] == 1) & (df['Age'] < 19) & (df['SibSp'] == 0) & (df['Sex'] == 'male') & (df['Parch'] == 0)]\n",
    "    noSibXF = df.loc[(df['Survived'] == 1) & (df['Age'] < 19) & (df['SibSp'] == 0) & (df['Sex'] == 'female') & (df['Parch'] == 0)]\n",
    "\n",
    "    # Number of Dead kids who have siblings or parents.\n",
    "    dsibXM = df.loc[(df['Survived'] == 0) & (df['Age'] < 19) & ((df['SibSp'] > 0) | (df['Parch'] > 0)) & (df['Sex'] == 'male')]\n",
    "    dsibXF = df.loc[(df['Survived'] == 0) & (df['Age'] < 19) & ((df['SibSp'] > 0) | (df['Parch'] > 0)) & (df['Sex'] == 'female')]\n",
    "    \n",
    "    # Number of Dead kids who have no siblings and parents.\n",
    "    dnoSibXM = df.loc[(df['Survived'] == 0) & (df['Age'] < 19) & ((df['SibSp'] == 0) | (df['Parch'] == 0)) & (df['Sex'] == 'male')]\n",
    "    dnoSibXF = df.loc[(df['Survived'] == 0) & (df['Age'] < 19) & ((df['SibSp'] == 0) | (df['Parch'] == 0)) & (df['Sex'] == 'female')]\n",
    "    \n",
    "    # reset the index\n",
    "    sibXM.reset_index(drop=True, inplace=True)\n",
    "    sibXF.reset_index(drop=True, inplace=True)\n",
    "    noSibXM.reset_index(drop=True, inplace=True)\n",
    "    noSibXF.reset_index(drop=True, inplace=True)\n",
    "    \n",
    "    # reset the index\n",
    "    dsibXM.reset_index(drop=True, inplace=True)\n",
    "    dsibXF.reset_index(drop=True, inplace=True)\n",
    "    dnoSibXM.reset_index(drop=True, inplace=True)\n",
    "    dnoSibXF.reset_index(drop=True, inplace=True)\n",
    "        \n",
    "\n",
    "    # Insert datas in a data frame called newDf1.\n",
    "    newDf1 = pd.DataFrame({\n",
    "        'Sex':{0:'Male' ,1:'Female'},\n",
    "        'Survived w family':{0:sibXM.shape[0], 1:sibXF.shape[0]},\n",
    "        'Survived w/o family':{0:noSibXM.shape[0] , 1:noSibXF.shape[0]},\n",
    "        'Percentage of survival w/o family': {0:int(round(noSibXM.shape[0]/sibXM.shape[0]*100)), 1: int(round(noSibXF.shape[0]/sibXF.shape[0]*100)) }\n",
    "    })\n",
    "    print(\"Survived members with siblings/parents:\\n\",tabulate(newDf1, headers = 'keys', tablefmt = 'psql'),'\\n')\n",
    "    \n",
    "    # Insert datas in a data frame called newDf2.\n",
    "    newDf2 = pd.DataFrame({\n",
    "        'Sex':{0:'Male' ,1:'Female'},\n",
    "        'Dead w family':{0:dsibXM.shape[0], 1:dsibXF.shape[0]},\n",
    "        'Dead w/o family':{0:dnoSibXM.shape[0] , 1:dnoSibXF.shape[0]},\n",
    "        'Percentage of Dead w/o family': {0:int(round(dnoSibXM.shape[0]/dsibXM.shape[0]*100)), 1: int(round(dnoSibXF.shape[0]/dsibXF.shape[0]*100)) }\n",
    "    })\n",
    "    print(\"Dead members with siblings/parents:\\n\", tabulate(newDf2, headers = 'keys', tablefmt = 'psql'),\"\\n\")\n",
    "    display(newDf1)\n",
    "    display(newDf2)\n",
    "    print(\"Bell curve plot of number of survived/dead kids with the variation of having family members or not.\")\n",
    "    \n",
    "\n",
    "    sns.displot(data=newDf1, x=\"Survived w family\", multiple=\"stack\", kind=\"kde\")\n",
    "    sns.displot(data=newDf1, x=\"Survived w/o family\", multiple=\"stack\", kind=\"kde\")\n",
    "\n",
    "    sns.displot(data=newDf2, x=\"Dead w family\", multiple=\"stack\", kind=\"kde\")\n",
    "    sns.displot(data=newDf2, x=\"Dead w/o family\", multiple=\"stack\", kind=\"kde\")\n",
    "    \n",
    "    newDf1['Survived w/o family'].hist()\n",
    "    newDf1['Survived w family'].hist()\n",
    "    newDf2['Dead w family'].hist()\n",
    "    newDf2['Dead w/o family'].hist()\n",
    "    "
   ]
  },
  {
   "cell_type": "markdown",
   "id": "495fb14b",
   "metadata": {},
   "source": [
    "### Below is data of survived or dead kids who either has a family member(s) or not."
   ]
  },
  {
   "cell_type": "code",
   "execution_count": 41,
   "id": "cedf5dbe",
   "metadata": {
    "scrolled": true
   },
   "outputs": [
    {
     "name": "stdout",
     "output_type": "stream",
     "text": [
      "Survived members with siblings/parents:\n",
      " +----+--------+---------------------+-----------------------+-------------------------------------+\n",
      "|    | Sex    |   Survived w family |   Survived w/o family |   Percentage of survival w/o family |\n",
      "|----+--------+---------------------+-----------------------+-------------------------------------|\n",
      "|  0 | Male   |                  22 |                     2 |                                   9 |\n",
      "|  1 | Female |                  35 |                    11 |                                  31 |\n",
      "+----+--------+---------------------+-----------------------+-------------------------------------+ \n",
      "\n",
      "Dead members with siblings/parents:\n",
      " +----+--------+-----------------+-------------------+---------------------------------+\n",
      "|    | Sex    |   Dead w family |   Dead w/o family |   Percentage of Dead w/o family |\n",
      "|----+--------+-----------------+-------------------+---------------------------------|\n",
      "|  0 | Male   |              28 |                23 |                              82 |\n",
      "|  1 | Female |              18 |                10 |                              56 |\n",
      "+----+--------+-----------------+-------------------+---------------------------------+ \n",
      "\n"
     ]
    },
    {
     "data": {
      "text/html": [
       "<div>\n",
       "<style scoped>\n",
       "    .dataframe tbody tr th:only-of-type {\n",
       "        vertical-align: middle;\n",
       "    }\n",
       "\n",
       "    .dataframe tbody tr th {\n",
       "        vertical-align: top;\n",
       "    }\n",
       "\n",
       "    .dataframe thead th {\n",
       "        text-align: right;\n",
       "    }\n",
       "</style>\n",
       "<table border=\"1\" class=\"dataframe\">\n",
       "  <thead>\n",
       "    <tr style=\"text-align: right;\">\n",
       "      <th></th>\n",
       "      <th>Sex</th>\n",
       "      <th>Survived w family</th>\n",
       "      <th>Survived w/o family</th>\n",
       "      <th>Percentage of survival w/o family</th>\n",
       "    </tr>\n",
       "  </thead>\n",
       "  <tbody>\n",
       "    <tr>\n",
       "      <th>0</th>\n",
       "      <td>Male</td>\n",
       "      <td>22</td>\n",
       "      <td>2</td>\n",
       "      <td>9</td>\n",
       "    </tr>\n",
       "    <tr>\n",
       "      <th>1</th>\n",
       "      <td>Female</td>\n",
       "      <td>35</td>\n",
       "      <td>11</td>\n",
       "      <td>31</td>\n",
       "    </tr>\n",
       "  </tbody>\n",
       "</table>\n",
       "</div>"
      ],
      "text/plain": [
       "      Sex  Survived w family  Survived w/o family  \\\n",
       "0    Male                 22                    2   \n",
       "1  Female                 35                   11   \n",
       "\n",
       "   Percentage of survival w/o family  \n",
       "0                                  9  \n",
       "1                                 31  "
      ]
     },
     "metadata": {},
     "output_type": "display_data"
    },
    {
     "data": {
      "text/html": [
       "<div>\n",
       "<style scoped>\n",
       "    .dataframe tbody tr th:only-of-type {\n",
       "        vertical-align: middle;\n",
       "    }\n",
       "\n",
       "    .dataframe tbody tr th {\n",
       "        vertical-align: top;\n",
       "    }\n",
       "\n",
       "    .dataframe thead th {\n",
       "        text-align: right;\n",
       "    }\n",
       "</style>\n",
       "<table border=\"1\" class=\"dataframe\">\n",
       "  <thead>\n",
       "    <tr style=\"text-align: right;\">\n",
       "      <th></th>\n",
       "      <th>Sex</th>\n",
       "      <th>Dead w family</th>\n",
       "      <th>Dead w/o family</th>\n",
       "      <th>Percentage of Dead w/o family</th>\n",
       "    </tr>\n",
       "  </thead>\n",
       "  <tbody>\n",
       "    <tr>\n",
       "      <th>0</th>\n",
       "      <td>Male</td>\n",
       "      <td>28</td>\n",
       "      <td>23</td>\n",
       "      <td>82</td>\n",
       "    </tr>\n",
       "    <tr>\n",
       "      <th>1</th>\n",
       "      <td>Female</td>\n",
       "      <td>18</td>\n",
       "      <td>10</td>\n",
       "      <td>56</td>\n",
       "    </tr>\n",
       "  </tbody>\n",
       "</table>\n",
       "</div>"
      ],
      "text/plain": [
       "      Sex  Dead w family  Dead w/o family  Percentage of Dead w/o family\n",
       "0    Male             28               23                             82\n",
       "1  Female             18               10                             56"
      ]
     },
     "metadata": {},
     "output_type": "display_data"
    },
    {
     "name": "stdout",
     "output_type": "stream",
     "text": [
      "Bell curve plot of number of survived/dead kids with the variation of having family members or not.\n"
     ]
    },
    {
     "data": {
      "image/png": "[encoded data removed]",
      "text/plain": [
       "<Figure size 360x360 with 1 Axes>"
      ]
     },
     "metadata": {
      "needs_background": "light"
     },
     "output_type": "display_data"
    },
    {
     "data": {
      "image/png": "[encoded data removed]",
      "text/plain": [
       "<Figure size 360x360 with 1 Axes>"
      ]
     },
     "metadata": {
      "needs_background": "light"
     },
     "output_type": "display_data"
    },
    {
     "data": {
      "image/png": "[encoded data removed]",
      "text/plain": [
       "<Figure size 360x360 with 1 Axes>"
      ]
     },
     "metadata": {
      "needs_background": "light"
     },
     "output_type": "display_data"
    },
    {
     "data": {
      "image/png": "[encoded data removed]",
      "text/plain": [
       "<Figure size 360x360 with 1 Axes>"
      ]
     },
     "metadata": {
      "needs_background": "light"
     },
     "output_type": "display_data"
    }
   ],
   "source": [
    "sibNumRelation()"
   ]
  }
 ],
 "metadata": {
  "kernelspec": {
   "display_name": "Python 3 (ipykernel)",
   "language": "python",
   "name": "python3"
  },
  "language_info": {
   "codemirror_mode": {
    "name": "ipython",
    "version": 3
   },
   "file_extension": ".py",
   "mimetype": "text/x-python",
   "name": "python",
   "nbconvert_exporter": "python",
   "pygments_lexer": "ipython3",
   "version": "3.9.12"
  }
 },
 "nbformat": 4,
 "nbformat_minor": 5
}
