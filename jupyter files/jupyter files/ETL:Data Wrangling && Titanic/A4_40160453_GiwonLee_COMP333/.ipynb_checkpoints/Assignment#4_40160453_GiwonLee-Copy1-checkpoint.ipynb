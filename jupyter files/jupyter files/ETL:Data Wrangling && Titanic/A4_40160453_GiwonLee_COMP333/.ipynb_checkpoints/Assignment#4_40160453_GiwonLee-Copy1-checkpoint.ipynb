{
 "cells": [
  {
   "cell_type": "code",
   "execution_count": null,
   "id": "71512b5f",
   "metadata": {},
   "outputs": [],
   "source": []
  },
  {
   "cell_type": "code",
   "execution_count": 166,
   "id": "4c2c4eea",
   "metadata": {
    "scrolled": true
   },
   "outputs": [
    {
     "data": {
      "text/html": [
       "<div>\n",
       "<style scoped>\n",
       "    .dataframe tbody tr th:only-of-type {\n",
       "        vertical-align: middle;\n",
       "    }\n",
       "\n",
       "    .dataframe tbody tr th {\n",
       "        vertical-align: top;\n",
       "    }\n",
       "\n",
       "    .dataframe thead th {\n",
       "        text-align: right;\n",
       "    }\n",
       "</style>\n",
       "<table border=\"1\" class=\"dataframe\">\n",
       "  <thead>\n",
       "    <tr style=\"text-align: right;\">\n",
       "      <th></th>\n",
       "      <th>PassengerId</th>\n",
       "      <th>Survived</th>\n",
       "      <th>Pclass</th>\n",
       "      <th>Name</th>\n",
       "      <th>Sex</th>\n",
       "      <th>Age</th>\n",
       "      <th>SibSp</th>\n",
       "      <th>Parch</th>\n",
       "      <th>Ticket</th>\n",
       "      <th>Fare</th>\n",
       "      <th>Cabin</th>\n",
       "      <th>Embarked</th>\n",
       "    </tr>\n",
       "  </thead>\n",
       "  <tbody>\n",
       "    <tr>\n",
       "      <th>0</th>\n",
       "      <td>1</td>\n",
       "      <td>0.0</td>\n",
       "      <td>3</td>\n",
       "      <td>Braund, Mr. Owen Harris</td>\n",
       "      <td>male</td>\n",
       "      <td>22.0</td>\n",
       "      <td>1</td>\n",
       "      <td>0</td>\n",
       "      <td>A/5 21171</td>\n",
       "      <td>7.2500</td>\n",
       "      <td>NaN</td>\n",
       "      <td>S</td>\n",
       "    </tr>\n",
       "    <tr>\n",
       "      <th>1</th>\n",
       "      <td>2</td>\n",
       "      <td>1.0</td>\n",
       "      <td>1</td>\n",
       "      <td>Cumings, Mrs. John Bradley (Florence Briggs Th...</td>\n",
       "      <td>female</td>\n",
       "      <td>38.0</td>\n",
       "      <td>1</td>\n",
       "      <td>0</td>\n",
       "      <td>PC 17599</td>\n",
       "      <td>71.2833</td>\n",
       "      <td>C85</td>\n",
       "      <td>C</td>\n",
       "    </tr>\n",
       "    <tr>\n",
       "      <th>2</th>\n",
       "      <td>3</td>\n",
       "      <td>1.0</td>\n",
       "      <td>3</td>\n",
       "      <td>Heikkinen, Miss. Laina</td>\n",
       "      <td>female</td>\n",
       "      <td>26.0</td>\n",
       "      <td>0</td>\n",
       "      <td>0</td>\n",
       "      <td>STON/O2. 3101282</td>\n",
       "      <td>7.9250</td>\n",
       "      <td>NaN</td>\n",
       "      <td>S</td>\n",
       "    </tr>\n",
       "    <tr>\n",
       "      <th>3</th>\n",
       "      <td>4</td>\n",
       "      <td>1.0</td>\n",
       "      <td>1</td>\n",
       "      <td>Futrelle, Mrs. Jacques Heath (Lily May Peel)</td>\n",
       "      <td>female</td>\n",
       "      <td>35.0</td>\n",
       "      <td>1</td>\n",
       "      <td>0</td>\n",
       "      <td>113803</td>\n",
       "      <td>53.1000</td>\n",
       "      <td>C123</td>\n",
       "      <td>S</td>\n",
       "    </tr>\n",
       "    <tr>\n",
       "      <th>4</th>\n",
       "      <td>5</td>\n",
       "      <td>0.0</td>\n",
       "      <td>3</td>\n",
       "      <td>Allen, Mr. William Henry</td>\n",
       "      <td>male</td>\n",
       "      <td>35.0</td>\n",
       "      <td>0</td>\n",
       "      <td>0</td>\n",
       "      <td>373450</td>\n",
       "      <td>8.0500</td>\n",
       "      <td>NaN</td>\n",
       "      <td>S</td>\n",
       "    </tr>\n",
       "  </tbody>\n",
       "</table>\n",
       "</div>"
      ],
      "text/plain": [
       "   PassengerId  Survived  Pclass  \\\n",
       "0            1       0.0       3   \n",
       "1            2       1.0       1   \n",
       "2            3       1.0       3   \n",
       "3            4       1.0       1   \n",
       "4            5       0.0       3   \n",
       "\n",
       "                                                Name     Sex   Age  SibSp  \\\n",
       "0                            Braund, Mr. Owen Harris    male  22.0      1   \n",
       "1  Cumings, Mrs. John Bradley (Florence Briggs Th...  female  38.0      1   \n",
       "2                             Heikkinen, Miss. Laina  female  26.0      0   \n",
       "3       Futrelle, Mrs. Jacques Heath (Lily May Peel)  female  35.0      1   \n",
       "4                           Allen, Mr. William Henry    male  35.0      0   \n",
       "\n",
       "   Parch            Ticket     Fare Cabin Embarked  \n",
       "0      0         A/5 21171   7.2500   NaN        S  \n",
       "1      0          PC 17599  71.2833   C85        C  \n",
       "2      0  STON/O2. 3101282   7.9250   NaN        S  \n",
       "3      0            113803  53.1000  C123        S  \n",
       "4      0            373450   8.0500   NaN        S  "
      ]
     },
     "execution_count": 166,
     "metadata": {},
     "output_type": "execute_result"
    }
   ],
   "source": [
    "import pandas as pd \n",
    "import seaborn as sns\n",
    "from matplotlib import pyplot as plt\n",
    "import numpy as np\n",
    "from sklearn.datasets import load_iris\n",
    "\n",
    "# ---------------------------------------------------------------------- #\n",
    "\n",
    "# Important Attributes from given data.\n",
    "\n",
    "# Survived \n",
    "# 1 - survived, 0 - dead\n",
    "\n",
    "# SibSp\n",
    "# Number of Siblings / Spouses Aboard\n",
    "\n",
    "# Parch\n",
    "# Number of parents / children aboard the titanic\n",
    "\n",
    "# Embarked\n",
    "# Port of Embarkation; C - Cherbourg, Q - Queenstown, S - Southampton\n",
    "\n",
    "# ---------------------------------------------------------------------- #\n",
    "\n",
    "\n",
    "# Analyse the Titanic dataset to determine which factors affect the survival rate of children.\n",
    "# Consider factors such as age, sex, embarkation port, and size of the family that was travelling;\n",
    "# if such information is available. Focus on creating a story.\n",
    "\n",
    "train = pd.read_csv('train.csv')\n",
    "test = pd.read_csv('test.csv')\n",
    "\n",
    "df = pd.concat([train, test])\n",
    "\n",
    "\n",
    "# Global variables for number of male/female survivors.\n",
    "numFemale = df.loc[(df['Survived'] == 1) & (df['Age'] < 19) & (df['Sex'] == 'female')]\n",
    "numMale = df.loc[(df['Survived'] == 1) & (df['Age'] < 19) & (df['Sex'] == 'male')]\n",
    "\n",
    "numMale.reset_index(drop=True, inplace=True)\n",
    "numFemale.reset_index(drop=True, inplace=True)\n",
    "\n",
    "dfTotal = pd.concat([numMale, numFemale])\n",
    "\n",
    "df.head()"
   ]
  },
  {
   "cell_type": "markdown",
   "id": "d5340ef9",
   "metadata": {},
   "source": [
    "Must Markup like this and show anallysis, presentation content and visualizations\n",
    "\n",
    "it is to focus on a simple EDA to focus on generating readable story\n",
    "\n",
    "Must have four slides that represent notebook analysis\n"
   ]
  },
  {
   "cell_type": "markdown",
   "id": "f7090085",
   "metadata": {},
   "source": [
    "# First, number of survivors (below 19) and male/female distribution."
   ]
  },
  {
   "cell_type": "code",
   "execution_count": 70,
   "id": "f3300c7f",
   "metadata": {
    "scrolled": true
   },
   "outputs": [
    {
     "name": "stdout",
     "output_type": "stream",
     "text": [
      "The total number of children who survived from the incident is:  70  people.\n",
      "Number of Male survivor:  24\n",
      "Number of Feale survivor:  46\n"
     ]
    }
   ],
   "source": [
    "# How many kids total have survived from the incident.\n",
    "# I considered anyone who are 18 or less is children.\n",
    "\n",
    "def countSurvived(df):\n",
    "    survivedKid = df.loc[(df['Survived']== 1) & (df['Age'] < 19)]\n",
    "    survivedKid.reset_index(drop=True, inplace=True)\n",
    "    # print(survivedKid.to_string())\n",
    "    count_survivedKid = survivedKid.shape[0]\n",
    "    print(\"The total number of children who survived from the incident is: \" , count_survivedKid , \" people.\")\n",
    "    print(\"Number of Male survivor: \" , numMale.shape[0])\n",
    "    print(\"Number of Feale survivor: \" , numFemale.shape[0])\n",
    "\n",
    "countSurvived(df)\n"
   ]
  },
  {
   "cell_type": "markdown",
   "id": "5d41a0f6",
   "metadata": {},
   "source": [
    "# Histogram view of male/female children survivors."
   ]
  },
  {
   "cell_type": "code",
   "execution_count": 95,
   "id": "81141bf5",
   "metadata": {},
   "outputs": [
    {
     "name": "stdout",
     "output_type": "stream",
     "text": [
      "**Female children survivors are significantly larger than male survivors.**\n"
     ]
    },
    {
     "data": {
      "image/png": "[encoded data removed]",
      "text/plain": [
       "<Figure size 640x480 with 1 Axes>"
      ]
     },
     "metadata": {},
     "output_type": "display_data"
    }
   ],
   "source": [
    "import pandas as pd \n",
    "\n",
    "def histSurvivor(df):\n",
    "    numMale['Sex'].hist()\n",
    "    numFemale['Sex'].hist()\n",
    "    print(\"**Female children survivors are significantly larger than male survivors.**\")\n",
    "\n",
    "histSurvivor(df)\n"
   ]
  },
  {
   "cell_type": "markdown",
   "id": "31528931",
   "metadata": {},
   "source": [
    "# To find out which location they are boarded.\n",
    "\n",
    "# Embarked (has three locations): Port of Embarkation; C - Cherbourg, Q - Queenstown, S - Southampton"
   ]
  },
  {
   "cell_type": "code",
   "execution_count": 221,
   "id": "d8e8553f",
   "metadata": {},
   "outputs": [
    {
     "name": "stdout",
     "output_type": "stream",
     "text": [
      "Number of survivors embarked at Cherbourg:  20\n",
      "Number of survivors embarked at Queenstown:  3\n",
      "Number of survivors embarked at Southampton:  47\n",
      "+----+---------------------+-------------------+------------------+-------------+---------------+--------------+\n",
      "|    | Embarked Location   |   # of passengers |   # of survivors |   # of Male |   # of Female |   % survivor |\n",
      "|----+---------------------+-------------------+------------------+-------------+---------------+--------------|\n",
      "|  0 | Cherbourg           |                28 |               20 |           4 |            16 |           71 |\n",
      "|  1 | Queenstown          |                11 |                3 |           0 |             3 |           27 |\n",
      "|  2 | Southampton         |                55 |               47 |          20 |            27 |           85 |\n",
      "+----+---------------------+-------------------+------------------+-------------+---------------+--------------+\n"
     ]
    }
   ],
   "source": [
    "# importing the modules\n",
    "from tabulate import tabulate\n",
    "\n",
    "# First to find where they Embarked.\n",
    "# C for Cherbourg\n",
    "# Q for Queenstown\n",
    "# S for Southampton\n",
    "embarkedC = df.loc[(df['Survived'] == 1) & (df['Age'] < 19) & (df['Embarked'] == 'C')]\n",
    "embarkedQ = df.loc[(df['Survived'] == 1) & (df['Age'] < 19) & (df['Embarked'] == 'Q')]\n",
    "embarkedS = df.loc[(df['Survived'] == 1) & (df['Age'] < 19) & (df['Embarked'] == 'S')]\n",
    "\n",
    "# This function displays the number of survivors male/female from each different locations they get on board.\n",
    "def embarkedLoc(df, i):\n",
    "    \n",
    "    embarkedC.reset_index(drop=True, inplace=True)\n",
    "    embarkedQ.reset_index(drop=True, inplace=True)\n",
    "    embarkedS.reset_index(drop=True, inplace=True)\n",
    "    \n",
    "    print(\"Number of survivors embarked at Cherbourg: \" , embarkedC.shape[0])\n",
    "    print(\"Number of survivors embarked at Queenstown: \" , embarkedQ.shape[0])\n",
    "    print(\"Number of survivors embarked at Southampton: \" , embarkedS.shape[0])\n",
    "\n",
    "    newDf = embarkedC+embarkedQ+embarkedS\n",
    "    \n",
    "    # Number of total child passengers either survived or not survived\n",
    "    xP = embarkedC.shape[0] + df.loc[(df['Survived'] == 0) & (df['Age'] < 19) & (df['Embarked'] == 'C')].shape[0]\n",
    "    yP = embarkedQ.shape[0] + df.loc[(df['Survived'] == 0) & (df['Age'] < 19) & (df['Embarked'] == 'C')].shape[0]\n",
    "    zP = embarkedS.shape[0] + df.loc[(df['Survived'] == 0) & (df['Age'] < 19) & (df['Embarked'] == 'C')].shape[0]\n",
    "\n",
    "    # Number of male survivors at each location\n",
    "    xM = embarkedC.loc[embarkedC['Sex']== \"male\"].shape[0]\n",
    "    yM = embarkedQ.loc[embarkedQ['Sex']== \"male\"].shape[0]\n",
    "    zM = embarkedS.loc[embarkedS['Sex']== \"male\"].shape[0]\n",
    "    \n",
    "    # Number of female survivors at each location\n",
    "    xF = embarkedC.loc[embarkedC['Sex']== \"female\"].shape[0]\n",
    "    yF = embarkedQ.loc[embarkedQ['Sex']== \"female\"].shape[0]\n",
    "    zF = embarkedS.loc[embarkedS['Sex']== \"female\"].shape[0]\n",
    "    \n",
    "    # Insert datas in a data frame.\n",
    "    newDf = pd.DataFrame({\n",
    "        'Embarked Location':{0:'Cherbourg' ,1:'Queenstown' ,2:'Southampton'},\n",
    "        '# of passengers':{0:xP,1:yP,2:zP},\n",
    "        '# of survivors':{0:embarkedC.shape[0], 1:embarkedQ.shape[0] , 2:embarkedS.shape[0]},\n",
    "        '# of Male':{0:xM,1:yM,2:zM},\n",
    "        '# of Female':{0:xF,1:yF,2:zF},\n",
    "        '% survivor':{0:int(round(embarkedC.shape[0]/xP*100)),1:int(round(embarkedQ.shape[0]/yP*100)),2:int(round(embarkedS.shape[0]/zP*100))}\n",
    "        # Simply divide survivors by total # of passengers.\n",
    "    })\n",
    "    \n",
    "    # Displaying plots and dataframe makes it hard to visualize all the data at once.\n",
    "    # Hence, if i is 0, it will display table formation of dataframe\n",
    "    # if i is 1, it will display the plots.\n",
    "    \n",
    "    if(i == 0):\n",
    "        print(tabulate(newDf, headers = 'keys', tablefmt = 'psql'))\n",
    "    \n",
    "    \n",
    "    if(i == 1):\n",
    "        print()\n",
    "        print(\"Number of survivors/dead embarked at Cherbourg: \" , xP)\n",
    "        print(\"Number of survivors/dead embarked at Queenstown: \" , yP)\n",
    "        print(\"Number of survivors/dead embarked at Southampton: \" , zP)\n",
    "        \n",
    "        newDf.plot.box(column = '# of survivors', by = \"Embarked Location\")\n",
    "        newDf.plot.box(column = '# of Male', by = \"Embarked Location\")\n",
    "        newDf.plot.box(column = '# of Female', by = \"Embarked Location\")\n",
    "    \n",
    "embarkedLoc(df,0)"
   ]
  },
  {
   "cell_type": "markdown",
   "id": "032e912c",
   "metadata": {},
   "source": [
    "There is more female survivors than male survivors."
   ]
  },
  {
   "cell_type": "code",
   "execution_count": null,
   "id": "7d12ebab",
   "metadata": {},
   "outputs": [],
   "source": [
    "\n",
    "    # Number of male survivors at each location\n",
    "    xM = embarkedC.loc[embarkedC['Sex']== \"male\"].shape[0]\n",
    "    yM = embarkedQ.loc[embarkedQ['Sex']== \"male\"].shape[0]\n",
    "    zM = embarkedS.loc[embarkedS['Sex']== \"male\"].shape[0]\n",
    "    \n",
    "    # Number of female survivors at each location\n",
    "    xF = embarkedC.loc[embarkedC['Sex']== \"female\"].shape[0]\n",
    "    yF = embarkedQ.loc[embarkedQ['Sex']== \"female\"].shape[0]\n",
    "    zF = embarkedS.loc[embarkedS['Sex']== \"female\"].shape[0]"
   ]
  },
  {
   "cell_type": "markdown",
   "id": "010bf0af",
   "metadata": {},
   "source": [
    "# Displays the box plot of number of survived male/female at each location "
   ]
  },
  {
   "cell_type": "markdown",
   "id": "146313c9",
   "metadata": {},
   "source": [
    "According to the plots and number of survivors from different locations.\n",
    "\n",
    "Southampton has majority passengers on board compare to Cherbourg and Queenstown.\n",
    "\n",
    "Plus, Southampton has the greatest percentage of survivor rate.\n",
    "\n",
    "Then, Cherbourg and Queenstown.\n",
    "\n",
    "@@Southampton is known as the first stop for Titanic where majority passengers have boarded@@\n"
   ]
  },
  {
   "cell_type": "code",
   "execution_count": 209,
   "id": "3b25db91",
   "metadata": {},
   "outputs": [
    {
     "name": "stdout",
     "output_type": "stream",
     "text": [
      "Number of survivors embarked at Cherbourg:  20\n",
      "Number of survivors embarked at Queenstown:  3\n",
      "Number of survivors embarked at Southampton:  47\n",
      "\n",
      "Number of survivors/dead embarked at Cherbourg:  28\n",
      "Number of survivors/dead embarked at Queenstown:  11\n",
      "Number of survivors/dead embarked at Southampton:  55\n"
     ]
    },
    {
     "data": {
      "image/png": "[encoded data removed]",
      "text/plain": [
       "<Figure size 640x480 with 1 Axes>"
      ]
     },
     "metadata": {},
     "output_type": "display_data"
    },
    {
     "data": {
      "image/png": "[encoded data removed]",
      "text/plain": [
       "<Figure size 640x480 with 1 Axes>"
      ]
     },
     "metadata": {},
     "output_type": "display_data"
    },
    {
     "data": {
      "image/png": "[encoded data removed]",
      "text/plain": [
       "<Figure size 640x480 with 1 Axes>"
      ]
     },
     "metadata": {},
     "output_type": "display_data"
    }
   ],
   "source": [
    "embarkedLoc(df,1)"
   ]
  },
  {
   "cell_type": "code",
   "execution_count": 230,
   "id": "4367a2eb",
   "metadata": {},
   "outputs": [
    {
     "ename": "SyntaxError",
     "evalue": "invalid syntax (1639211862.py, line 1)",
     "output_type": "error",
     "traceback": [
      "\u001b[0;36m  File \u001b[0;32m\"/var/folders/2j/592h2t5j29j1hf5m4z5b_k300000gn/T/ipykernel_1939/1639211862.py\"\u001b[0;36m, line \u001b[0;32m1\u001b[0m\n\u001b[0;31m    jupyter contrib nbextension install --user\u001b[0m\n\u001b[0m            ^\u001b[0m\n\u001b[0;31mSyntaxError\u001b[0m\u001b[0;31m:\u001b[0m invalid syntax\n"
     ]
    }
   ],
   "source": [
    "jupyter contrib nbextension install --user"
   ]
  }
 ],
 "metadata": {
  "kernelspec": {
   "display_name": "Python 3 (ipykernel)",
   "language": "python",
   "name": "python3"
  },
  "language_info": {
   "codemirror_mode": {
    "name": "ipython",
    "version": 3
   },
   "file_extension": ".py",
   "mimetype": "text/x-python",
   "name": "python",
   "nbconvert_exporter": "python",
   "pygments_lexer": "ipython3",
   "version": "3.9.13"
  }
 },
 "nbformat": 4,
 "nbformat_minor": 5
}
